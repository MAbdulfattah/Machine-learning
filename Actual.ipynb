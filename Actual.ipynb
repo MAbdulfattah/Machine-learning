{
 "cells": [
  {
   "cell_type": "markdown",
   "metadata": {},
   "source": [
    "# Bayes and SVM Models\n",
    "\n",
    "In this the bayes and tf-idf models are generated. There will primarily be 4 models. \n",
    "- Bayes: on text\n",
    "- Bayes: on text and keywords\n",
    "- SVM: on text\n",
    "- SVM: on text and keywords"
   ]
  },
  {
   "cell_type": "code",
   "execution_count": 1,
   "metadata": {},
   "outputs": [],
   "source": [
    "import pandas as pd\n",
    "import numpy as np\n",
    "import re\n",
    "import string\n",
    "import spacy\n",
    "\n",
    "import clean_data"
   ]
  },
  {
   "cell_type": "code",
   "execution_count": 2,
   "metadata": {},
   "outputs": [
    {
     "name": "stderr",
     "output_type": "stream",
     "text": [
      "[nltk_data] Downloading package vader_lexicon to\n",
      "[nltk_data]     /home/sybolt/nltk_data...\n",
      "[nltk_data]   Package vader_lexicon is already up-to-date!\n"
     ]
    }
   ],
   "source": [
    "import nltk\n",
    "from nltk.sentiment import vader\n",
    "from nltk.sentiment.vader import SentimentIntensityAnalyzer\n",
    "nltk.download('vader_lexicon') ## this only needs to be run once\n",
    "\n",
    "vader_model = SentimentIntensityAnalyzer()"
   ]
  },
  {
   "cell_type": "code",
   "execution_count": 3,
   "metadata": {},
   "outputs": [],
   "source": [
    "df = pd.read_csv('train.csv')\n",
    "\n",
    "# drop the instances where the keywords are missing\n",
    "df = df[df.keyword.notnull()]\n",
    "df = df[df.text.notnull()]"
   ]
  },
  {
   "cell_type": "code",
   "execution_count": 4,
   "metadata": {},
   "outputs": [],
   "source": [
    "# Should we also use TextBlob and compare its performance with VADER!?\n",
    "df['compound'] = df['text'].apply(lambda x:vader_model.polarity_scores(x)['compound'])"
   ]
  },
  {
   "cell_type": "code",
   "execution_count": 5,
   "metadata": {},
   "outputs": [
    {
     "data": {
      "text/html": [
       "<div>\n",
       "<style scoped>\n",
       "    .dataframe tbody tr th:only-of-type {\n",
       "        vertical-align: middle;\n",
       "    }\n",
       "\n",
       "    .dataframe tbody tr th {\n",
       "        vertical-align: top;\n",
       "    }\n",
       "\n",
       "    .dataframe thead th {\n",
       "        text-align: right;\n",
       "    }\n",
       "</style>\n",
       "<table border=\"1\" class=\"dataframe\">\n",
       "  <thead>\n",
       "    <tr style=\"text-align: right;\">\n",
       "      <th></th>\n",
       "      <th>id</th>\n",
       "      <th>keyword</th>\n",
       "      <th>location</th>\n",
       "      <th>text</th>\n",
       "      <th>target</th>\n",
       "      <th>compound</th>\n",
       "    </tr>\n",
       "  </thead>\n",
       "  <tbody>\n",
       "    <tr>\n",
       "      <th>31</th>\n",
       "      <td>48</td>\n",
       "      <td>ablaze</td>\n",
       "      <td>Birmingham</td>\n",
       "      <td>@bbcmtd Wholesale Markets ablaze http://t.co/l...</td>\n",
       "      <td>1</td>\n",
       "      <td>0.0000</td>\n",
       "    </tr>\n",
       "    <tr>\n",
       "      <th>32</th>\n",
       "      <td>49</td>\n",
       "      <td>ablaze</td>\n",
       "      <td>Est. September 2012 - Bristol</td>\n",
       "      <td>We always try to bring the heavy. #metal #RT h...</td>\n",
       "      <td>0</td>\n",
       "      <td>0.0000</td>\n",
       "    </tr>\n",
       "    <tr>\n",
       "      <th>33</th>\n",
       "      <td>50</td>\n",
       "      <td>ablaze</td>\n",
       "      <td>AFRICA</td>\n",
       "      <td>#AFRICANBAZE: Breaking news:Nigeria flag set a...</td>\n",
       "      <td>1</td>\n",
       "      <td>0.0000</td>\n",
       "    </tr>\n",
       "    <tr>\n",
       "      <th>34</th>\n",
       "      <td>52</td>\n",
       "      <td>ablaze</td>\n",
       "      <td>Philadelphia, PA</td>\n",
       "      <td>Crying out for more! Set me ablaze</td>\n",
       "      <td>0</td>\n",
       "      <td>-0.5255</td>\n",
       "    </tr>\n",
       "    <tr>\n",
       "      <th>35</th>\n",
       "      <td>53</td>\n",
       "      <td>ablaze</td>\n",
       "      <td>London, UK</td>\n",
       "      <td>On plus side LOOK AT THE SKY LAST NIGHT IT WAS...</td>\n",
       "      <td>0</td>\n",
       "      <td>0.0000</td>\n",
       "    </tr>\n",
       "  </tbody>\n",
       "</table>\n",
       "</div>"
      ],
      "text/plain": [
       "    id keyword                       location  \\\n",
       "31  48  ablaze                     Birmingham   \n",
       "32  49  ablaze  Est. September 2012 - Bristol   \n",
       "33  50  ablaze                         AFRICA   \n",
       "34  52  ablaze               Philadelphia, PA   \n",
       "35  53  ablaze                     London, UK   \n",
       "\n",
       "                                                 text  target  compound  \n",
       "31  @bbcmtd Wholesale Markets ablaze http://t.co/l...       1    0.0000  \n",
       "32  We always try to bring the heavy. #metal #RT h...       0    0.0000  \n",
       "33  #AFRICANBAZE: Breaking news:Nigeria flag set a...       1    0.0000  \n",
       "34                 Crying out for more! Set me ablaze       0   -0.5255  \n",
       "35  On plus side LOOK AT THE SKY LAST NIGHT IT WAS...       0    0.0000  "
      ]
     },
     "execution_count": 5,
     "metadata": {},
     "output_type": "execute_result"
    }
   ],
   "source": [
    "df.head()"
   ]
  },
  {
   "cell_type": "code",
   "execution_count": 6,
   "metadata": {},
   "outputs": [
    {
     "name": "stdout",
     "output_type": "stream",
     "text": [
      "<class 'pandas.core.frame.DataFrame'>\n",
      "Int64Index: 6685 entries, 0 to 7551\n",
      "Data columns (total 5 columns):\n",
      "keyword     6685 non-null object\n",
      "location    4532 non-null object\n",
      "text        6685 non-null object\n",
      "target      6685 non-null int64\n",
      "compound    6685 non-null float64\n",
      "dtypes: float64(1), int64(1), object(3)\n",
      "memory usage: 313.4+ KB\n",
      "None\n"
     ]
    }
   ],
   "source": [
    "clean_data.clean(df, 'train', False)"
   ]
  },
  {
   "cell_type": "code",
   "execution_count": 7,
   "metadata": {},
   "outputs": [],
   "source": [
    "train_df = pd.read_csv('train_clean.csv')\n",
    "train_df = train_df[train_df['text'].notnull()]"
   ]
  },
  {
   "cell_type": "code",
   "execution_count": 8,
   "metadata": {},
   "outputs": [
    {
     "data": {
      "text/html": [
       "<div>\n",
       "<style scoped>\n",
       "    .dataframe tbody tr th:only-of-type {\n",
       "        vertical-align: middle;\n",
       "    }\n",
       "\n",
       "    .dataframe tbody tr th {\n",
       "        vertical-align: top;\n",
       "    }\n",
       "\n",
       "    .dataframe thead th {\n",
       "        text-align: right;\n",
       "    }\n",
       "</style>\n",
       "<table border=\"1\" class=\"dataframe\">\n",
       "  <thead>\n",
       "    <tr style=\"text-align: right;\">\n",
       "      <th></th>\n",
       "      <th>keyword</th>\n",
       "      <th>location</th>\n",
       "      <th>text</th>\n",
       "      <th>target</th>\n",
       "      <th>compound</th>\n",
       "    </tr>\n",
       "  </thead>\n",
       "  <tbody>\n",
       "    <tr>\n",
       "      <th>0</th>\n",
       "      <td>ablaze</td>\n",
       "      <td>Birmingham</td>\n",
       "      <td>wholesale market ablaze</td>\n",
       "      <td>1</td>\n",
       "      <td>0.0000</td>\n",
       "    </tr>\n",
       "    <tr>\n",
       "      <th>1</th>\n",
       "      <td>ablaze</td>\n",
       "      <td>Est. September 2012 - Bristol</td>\n",
       "      <td>try bring heavy metal</td>\n",
       "      <td>0</td>\n",
       "      <td>0.0000</td>\n",
       "    </tr>\n",
       "    <tr>\n",
       "      <th>2</th>\n",
       "      <td>ablaze</td>\n",
       "      <td>AFRICA</td>\n",
       "      <td>africanbaze break news nigeria flag set ablaze...</td>\n",
       "      <td>1</td>\n",
       "      <td>0.0000</td>\n",
       "    </tr>\n",
       "    <tr>\n",
       "      <th>3</th>\n",
       "      <td>ablaze</td>\n",
       "      <td>Philadelphia, PA</td>\n",
       "      <td>cry set ablaze</td>\n",
       "      <td>0</td>\n",
       "      <td>-0.5255</td>\n",
       "    </tr>\n",
       "    <tr>\n",
       "      <th>4</th>\n",
       "      <td>ablaze</td>\n",
       "      <td>London, UK</td>\n",
       "      <td>plus look sky night ablaze</td>\n",
       "      <td>0</td>\n",
       "      <td>0.0000</td>\n",
       "    </tr>\n",
       "    <tr>\n",
       "      <th>5</th>\n",
       "      <td>ablaze</td>\n",
       "      <td>Pretoria</td>\n",
       "      <td>mufc build hype new acquisition doubt set epl ...</td>\n",
       "      <td>0</td>\n",
       "      <td>-0.5023</td>\n",
       "    </tr>\n",
       "    <tr>\n",
       "      <th>6</th>\n",
       "      <td>ablaze</td>\n",
       "      <td>World Wide!!</td>\n",
       "      <td>inec office abia set ablaze</td>\n",
       "      <td>1</td>\n",
       "      <td>0.0000</td>\n",
       "    </tr>\n",
       "    <tr>\n",
       "      <th>7</th>\n",
       "      <td>ablaze</td>\n",
       "      <td>NaN</td>\n",
       "      <td>barbado bridgetown jamaica car set ablaze sant...</td>\n",
       "      <td>1</td>\n",
       "      <td>0.0000</td>\n",
       "    </tr>\n",
       "    <tr>\n",
       "      <th>8</th>\n",
       "      <td>ablaze</td>\n",
       "      <td>Paranaque City</td>\n",
       "      <td>ablaze lord d</td>\n",
       "      <td>0</td>\n",
       "      <td>0.6166</td>\n",
       "    </tr>\n",
       "    <tr>\n",
       "      <th>9</th>\n",
       "      <td>ablaze</td>\n",
       "      <td>Live On Webcam</td>\n",
       "      <td>check nsfw</td>\n",
       "      <td>0</td>\n",
       "      <td>0.0000</td>\n",
       "    </tr>\n",
       "    <tr>\n",
       "      <th>10</th>\n",
       "      <td>ablaze</td>\n",
       "      <td>NaN</td>\n",
       "      <td>outside ablaze alive dead inside</td>\n",
       "      <td>0</td>\n",
       "      <td>-0.7311</td>\n",
       "    </tr>\n",
       "    <tr>\n",
       "      <th>11</th>\n",
       "      <td>ablaze</td>\n",
       "      <td>milky way</td>\n",
       "      <td>awesome time visit cfc head office ancop site ...</td>\n",
       "      <td>0</td>\n",
       "      <td>0.8900</td>\n",
       "    </tr>\n",
       "    <tr>\n",
       "      <th>12</th>\n",
       "      <td>ablaze</td>\n",
       "      <td>NaN</td>\n",
       "      <td>soooo pump ablaze</td>\n",
       "      <td>0</td>\n",
       "      <td>0.0000</td>\n",
       "    </tr>\n",
       "    <tr>\n",
       "      <th>13</th>\n",
       "      <td>ablaze</td>\n",
       "      <td>NaN</td>\n",
       "      <td>want set chicago ablaze preaching hotel</td>\n",
       "      <td>0</td>\n",
       "      <td>0.0000</td>\n",
       "    </tr>\n",
       "    <tr>\n",
       "      <th>14</th>\n",
       "      <td>ablaze</td>\n",
       "      <td>NaN</td>\n",
       "      <td>gain follower week know stat grow</td>\n",
       "      <td>0</td>\n",
       "      <td>0.3818</td>\n",
       "    </tr>\n",
       "    <tr>\n",
       "      <th>15</th>\n",
       "      <td>ablaze</td>\n",
       "      <td>GREENSBORO,NORTH CAROLINA</td>\n",
       "      <td>west burn thousand wildfire ablaze california</td>\n",
       "      <td>1</td>\n",
       "      <td>-0.2500</td>\n",
       "    </tr>\n",
       "    <tr>\n",
       "      <th>16</th>\n",
       "      <td>ablaze</td>\n",
       "      <td>NaN</td>\n",
       "      <td>build perfect tracklist life leave street ablaze</td>\n",
       "      <td>0</td>\n",
       "      <td>0.5423</td>\n",
       "    </tr>\n",
       "    <tr>\n",
       "      <th>17</th>\n",
       "      <td>ablaze</td>\n",
       "      <td>England.</td>\n",
       "      <td>night retainer weird well wear single night year</td>\n",
       "      <td>0</td>\n",
       "      <td>0.2927</td>\n",
       "    </tr>\n",
       "    <tr>\n",
       "      <th>18</th>\n",
       "      <td>ablaze</td>\n",
       "      <td>Sheffield Township, Ohio</td>\n",
       "      <td>deputy man shoot brighton home set ablaze</td>\n",
       "      <td>1</td>\n",
       "      <td>0.0000</td>\n",
       "    </tr>\n",
       "    <tr>\n",
       "      <th>19</th>\n",
       "      <td>ablaze</td>\n",
       "      <td>India</td>\n",
       "      <td>man wife year jail set ablaze niece</td>\n",
       "      <td>1</td>\n",
       "      <td>0.0000</td>\n",
       "    </tr>\n",
       "  </tbody>\n",
       "</table>\n",
       "</div>"
      ],
      "text/plain": [
       "   keyword                       location  \\\n",
       "0   ablaze                     Birmingham   \n",
       "1   ablaze  Est. September 2012 - Bristol   \n",
       "2   ablaze                         AFRICA   \n",
       "3   ablaze               Philadelphia, PA   \n",
       "4   ablaze                     London, UK   \n",
       "5   ablaze                       Pretoria   \n",
       "6   ablaze                   World Wide!!   \n",
       "7   ablaze                            NaN   \n",
       "8   ablaze                 Paranaque City   \n",
       "9   ablaze                 Live On Webcam   \n",
       "10  ablaze                            NaN   \n",
       "11  ablaze                      milky way   \n",
       "12  ablaze                            NaN   \n",
       "13  ablaze                            NaN   \n",
       "14  ablaze                            NaN   \n",
       "15  ablaze      GREENSBORO,NORTH CAROLINA   \n",
       "16  ablaze                            NaN   \n",
       "17  ablaze                       England.   \n",
       "18  ablaze       Sheffield Township, Ohio   \n",
       "19  ablaze                          India   \n",
       "\n",
       "                                                 text  target  compound  \n",
       "0                             wholesale market ablaze       1    0.0000  \n",
       "1                               try bring heavy metal       0    0.0000  \n",
       "2   africanbaze break news nigeria flag set ablaze...       1    0.0000  \n",
       "3                                      cry set ablaze       0   -0.5255  \n",
       "4                          plus look sky night ablaze       0    0.0000  \n",
       "5   mufc build hype new acquisition doubt set epl ...       0   -0.5023  \n",
       "6                         inec office abia set ablaze       1    0.0000  \n",
       "7   barbado bridgetown jamaica car set ablaze sant...       1    0.0000  \n",
       "8                                       ablaze lord d       0    0.6166  \n",
       "9                                          check nsfw       0    0.0000  \n",
       "10                   outside ablaze alive dead inside       0   -0.7311  \n",
       "11  awesome time visit cfc head office ancop site ...       0    0.8900  \n",
       "12                                  soooo pump ablaze       0    0.0000  \n",
       "13            want set chicago ablaze preaching hotel       0    0.0000  \n",
       "14                  gain follower week know stat grow       0    0.3818  \n",
       "15      west burn thousand wildfire ablaze california       1   -0.2500  \n",
       "16   build perfect tracklist life leave street ablaze       0    0.5423  \n",
       "17   night retainer weird well wear single night year       0    0.2927  \n",
       "18          deputy man shoot brighton home set ablaze       1    0.0000  \n",
       "19                man wife year jail set ablaze niece       1    0.0000  "
      ]
     },
     "execution_count": 8,
     "metadata": {},
     "output_type": "execute_result"
    }
   ],
   "source": [
    "train_df.head(20)"
   ]
  },
  {
   "cell_type": "markdown",
   "metadata": {},
   "source": [
    "# Models"
   ]
  },
  {
   "cell_type": "code",
   "execution_count": 9,
   "metadata": {},
   "outputs": [],
   "source": [
    "# import for the models\n",
    "\n",
    "import matplotlib.pyplot as plt # are we using this?\n",
    "import scipy.sparse as sp\n",
    "from sklearn.model_selection import train_test_split\n",
    "from sklearn.pipeline import Pipeline\n",
    "from sklearn import metrics\n",
    "from sklearn.feature_extraction.text import TfidfVectorizer\n",
    "from sklearn.feature_extraction.text import CountVectorizer\n",
    "from sklearn.feature_extraction.text import TfidfTransformer"
   ]
  },
  {
   "cell_type": "markdown",
   "metadata": {},
   "source": [
    "Splitting data in validation- and training set. We speak of validation and not test, becaues the test data is contained within a separate file and thus is not present within the current dataframe. \n",
    "\n",
    "We can refer to these for all four models that are present here:"
   ]
  },
  {
   "cell_type": "code",
   "execution_count": 10,
   "metadata": {},
   "outputs": [],
   "source": [
    "# This cell can be an overarching train testsplit cell.\n",
    "\n",
    "x_keyword = train_df['keyword']\n",
    "x_text = train_df['text']\n",
    "y = train_df['target']\n",
    "# Hashtag?\n",
    "# Any other feature?\n",
    "\n",
    "x_train, x_test, y_train, y_test = train_test_split(x_text, y, test_size=0.2, random_state=40) # for what do we use the random state?"
   ]
  },
  {
   "cell_type": "code",
   "execution_count": 11,
   "metadata": {},
   "outputs": [],
   "source": [
    "# Needed for stacking\n",
    "\n",
    "keyword_vectorizer = CountVectorizer()\n",
    "keyword_vectors = keyword_vectorizer.fit_transform(train_df['keyword'])\n",
    "\n",
    "text_vectorizer = CountVectorizer()\n",
    "text_vectors = text_vectorizer.fit_transform(train_df['text'])\n",
    "\n",
    "# x_features_train is a combined representation containing both the keywords and the text vectors\n",
    "x_features_train = sp.hstack([keyword_vectors, text_vectors], format='csr')\n",
    "\n",
    "# y is decided above\n",
    "x_train_stack, x_test_stack, y_train_stack, y_test_stack = train_test_split(x_features_train, y, test_size=0.2)"
   ]
  },
  {
   "cell_type": "code",
   "execution_count": 12,
   "metadata": {},
   "outputs": [],
   "source": [
    "# Needed for concatination\n",
    "\n",
    "combine_texts = lambda x: x.keyword + \" \" + x.keyword + \" \" + x.keyword + \" \" + x.text\n",
    "train_df['kt_combined'] = train_df.apply(combine_texts, axis=1)\n",
    "train_df.head()\n",
    "\n",
    "x_con = train_df['kt_combined']\n",
    "\n",
    "vect_con = CountVectorizer()\n",
    "\n",
    "# y is given above\n",
    "x_train_con, x_test_con, y_train_con, y_test_con = train_test_split(x_con, y, test_size=0.2, random_state=40)\n",
    "\n",
    "vect_con.fit(x_train_con)\n",
    "\n",
    "x_train_vect_con = vect_con.transform(x_train_con)\n",
    "x_test_vect_con = vect_con.transform(x_test_con)\n"
   ]
  },
  {
   "cell_type": "markdown",
   "metadata": {},
   "source": [
    "## SVM"
   ]
  },
  {
   "cell_type": "code",
   "execution_count": 13,
   "metadata": {},
   "outputs": [],
   "source": [
    "# Support Vector Machines\n",
    "from sklearn.svm import SVC\n",
    "from sklearn.svm import LinearSVC"
   ]
  },
  {
   "cell_type": "markdown",
   "metadata": {},
   "source": [
    "### Pipeline usage for TFidf with SVM\n",
    "\n",
    "Here we run make use of tf-idf in combination with the a svm.\n",
    "\n",
    "Important to note is that this model only runs on one feature, i.e. the text.\n",
    "Thereby the model does not include 'keywords' in its prediction. "
   ]
  },
  {
   "cell_type": "code",
   "execution_count": 14,
   "metadata": {},
   "outputs": [
    {
     "data": {
      "text/plain": [
       "Pipeline(steps=[('tfidf', TfidfVectorizer()), ('clf', LinearSVC())])"
      ]
     },
     "execution_count": 14,
     "metadata": {},
     "output_type": "execute_result"
    }
   ],
   "source": [
    "text_clf_svm = Pipeline([('tfidf', TfidfVectorizer()),\n",
    "                     ('clf', LinearSVC()),\n",
    "])\n",
    "\n",
    "# Feed the training data through the pipeline\n",
    "text_clf_svm.fit(x_train, y_train)"
   ]
  },
  {
   "cell_type": "code",
   "execution_count": 15,
   "metadata": {},
   "outputs": [],
   "source": [
    "pred_pipe_svm_test = text_clf_svm.predict(x_test)"
   ]
  },
  {
   "cell_type": "code",
   "execution_count": 16,
   "metadata": {},
   "outputs": [
    {
     "name": "stdout",
     "output_type": "stream",
     "text": [
      "              precision    recall  f1-score   support\n",
      "\n",
      "           0       0.79      0.82      0.80       806\n",
      "           1       0.71      0.67      0.69       531\n",
      "\n",
      "    accuracy                           0.76      1337\n",
      "   macro avg       0.75      0.74      0.75      1337\n",
      "weighted avg       0.76      0.76      0.76      1337\n",
      "\n"
     ]
    }
   ],
   "source": [
    "print(metrics.classification_report(y_test, pred_pipe_svm_test))"
   ]
  },
  {
   "cell_type": "markdown",
   "metadata": {},
   "source": [
    "### SVM model: with both keywords and text as features\n",
    "\n",
    "Here we run make use of tf-idf in combination with the a svm on two features.\n",
    "\n",
    "Important to note is that this model only runs on two features, i.e. the keyword and text."
   ]
  },
  {
   "cell_type": "markdown",
   "metadata": {},
   "source": [
    "#### Stacking"
   ]
  },
  {
   "cell_type": "code",
   "execution_count": 17,
   "metadata": {},
   "outputs": [
    {
     "data": {
      "text/plain": [
       "LinearSVC()"
      ]
     },
     "execution_count": 17,
     "metadata": {},
     "output_type": "execute_result"
    }
   ],
   "source": [
    "clf_svm_stack = LinearSVC() \n",
    "\n",
    "clf_svm_stack.fit(x_train_stack, y_train_stack)"
   ]
  },
  {
   "cell_type": "code",
   "execution_count": 18,
   "metadata": {},
   "outputs": [],
   "source": [
    "pred_stack_svm_test = clf_svm_stack.predict(x_test_stack)"
   ]
  },
  {
   "cell_type": "code",
   "execution_count": 19,
   "metadata": {},
   "outputs": [
    {
     "name": "stdout",
     "output_type": "stream",
     "text": [
      "0.7636499626028422\n",
      "              precision    recall  f1-score   support\n",
      "\n",
      "           0       0.78      0.83      0.80       787\n",
      "           1       0.73      0.67      0.70       550\n",
      "\n",
      "    accuracy                           0.76      1337\n",
      "   macro avg       0.76      0.75      0.75      1337\n",
      "weighted avg       0.76      0.76      0.76      1337\n",
      "\n"
     ]
    }
   ],
   "source": [
    "print(metrics.accuracy_score(y_test_stack, pred_stack_svm_test))\n",
    "print(metrics.classification_report(y_test_stack, pred_stack_svm_test))"
   ]
  },
  {
   "cell_type": "markdown",
   "metadata": {},
   "source": [
    "#### Concatenation"
   ]
  },
  {
   "cell_type": "code",
   "execution_count": 20,
   "metadata": {},
   "outputs": [
    {
     "name": "stderr",
     "output_type": "stream",
     "text": [
      "/home/sybolt/.local/lib/python3.8/site-packages/sklearn/svm/_base.py:976: ConvergenceWarning: Liblinear failed to converge, increase the number of iterations.\n",
      "  warnings.warn(\"Liblinear failed to converge, increase \"\n"
     ]
    },
    {
     "data": {
      "text/plain": [
       "LinearSVC()"
      ]
     },
     "execution_count": 20,
     "metadata": {},
     "output_type": "execute_result"
    }
   ],
   "source": [
    "clf_svm_con = LinearSVC() \n",
    "\n",
    "clf_svm_con.fit(x_train_vect_con, y_train_con)"
   ]
  },
  {
   "cell_type": "code",
   "execution_count": 23,
   "metadata": {},
   "outputs": [
    {
     "name": "stdout",
     "output_type": "stream",
     "text": [
      "0.7352281226626777\n",
      "              precision    recall  f1-score   support\n",
      "\n",
      "           0       0.77      0.79      0.78       806\n",
      "           1       0.67      0.65      0.66       531\n",
      "\n",
      "    accuracy                           0.74      1337\n",
      "   macro avg       0.72      0.72      0.72      1337\n",
      "weighted avg       0.73      0.74      0.73      1337\n",
      "\n"
     ]
    }
   ],
   "source": [
    "pred_svm_con_test = clf_svm_con.predict(x_test_vect_con)\n",
    "\n",
    "print(metrics.accuracy_score(y_test_con, pred_svm_con_test))\n",
    "print(metrics.classification_report(y_test_con, pred_svm_con_test))"
   ]
  },
  {
   "cell_type": "markdown",
   "metadata": {},
   "source": [
    "## Bayesain classifier"
   ]
  },
  {
   "cell_type": "code",
   "execution_count": 24,
   "metadata": {},
   "outputs": [],
   "source": [
    "# Bayes\n",
    "from sklearn.naive_bayes import MultinomialNB"
   ]
  },
  {
   "cell_type": "markdown",
   "metadata": {},
   "source": [
    "### Pipeline usage for TFidf with Bayes\n",
    "\n",
    "Here we run make use of tf-idf in combination with the a bayes.\n",
    "\n",
    "Important to note is that this model only runs on one feature, i.e. the text.\n",
    "Thereby the model does not include 'keywords' in its prediction. "
   ]
  },
  {
   "cell_type": "code",
   "execution_count": 25,
   "metadata": {},
   "outputs": [
    {
     "name": "stdout",
     "output_type": "stream",
     "text": [
      "0.7808526551982049\n",
      "              precision    recall  f1-score   support\n",
      "\n",
      "           0       0.77      0.90      0.83       806\n",
      "           1       0.79      0.60      0.69       531\n",
      "\n",
      "    accuracy                           0.78      1337\n",
      "   macro avg       0.78      0.75      0.76      1337\n",
      "weighted avg       0.78      0.78      0.77      1337\n",
      "\n"
     ]
    }
   ],
   "source": [
    "text_clf_nb = Pipeline([\n",
    "    ('tfidf', TfidfVectorizer()),\n",
    "    ('clf', MultinomialNB()),\n",
    "])\n",
    "text_clf_nb.fit(x_train, y_train)\n",
    "\n",
    "pred_pipe_nb_test = text_clf_nb.predict(x_test)\n",
    "\n",
    "print(metrics.accuracy_score(y_test, pred_pipe_nb_test))\n",
    "print(metrics.classification_report(y_test,pred_pipe_nb_test))"
   ]
  },
  {
   "cell_type": "markdown",
   "metadata": {},
   "source": [
    "### Bayes Model: with both keywords and text as features\n",
    "\n",
    "Here we run make use of tf-idf in combination with the a bayes.\n",
    "\n",
    "Important to note is that this model only runs on one feature, i.e. the text.\n",
    "Thereby the model includes both keywords and text.\n",
    "\n",
    "We take two approaches:\n",
    "- Stacking\n",
    "- Concatination (nth degree)"
   ]
  },
  {
   "cell_type": "markdown",
   "metadata": {},
   "source": [
    "#### Stacking"
   ]
  },
  {
   "cell_type": "code",
   "execution_count": 26,
   "metadata": {},
   "outputs": [
    {
     "data": {
      "text/plain": [
       "MultinomialNB()"
      ]
     },
     "execution_count": 26,
     "metadata": {},
     "output_type": "execute_result"
    }
   ],
   "source": [
    "clf_nb_stack = MultinomialNB() \n",
    "\n",
    "clf_nb_stack.fit(x_train_stack, y_train_stack)"
   ]
  },
  {
   "cell_type": "code",
   "execution_count": 27,
   "metadata": {},
   "outputs": [],
   "source": [
    "pred_stack_nb_test = clf_nb_stack.predict(x_test_stack)"
   ]
  },
  {
   "cell_type": "code",
   "execution_count": 28,
   "metadata": {},
   "outputs": [
    {
     "name": "stdout",
     "output_type": "stream",
     "text": [
      "0.8010471204188482\n",
      "              precision    recall  f1-score   support\n",
      "\n",
      "           0       0.83      0.83      0.83       787\n",
      "           1       0.76      0.75      0.76       550\n",
      "\n",
      "    accuracy                           0.80      1337\n",
      "   macro avg       0.79      0.79      0.79      1337\n",
      "weighted avg       0.80      0.80      0.80      1337\n",
      "\n"
     ]
    }
   ],
   "source": [
    "print(metrics.accuracy_score(y_test_stack, pred_stack_nb_test))\n",
    "print(metrics.classification_report(y_test_stack, pred_stack_nb_test))"
   ]
  },
  {
   "cell_type": "markdown",
   "metadata": {},
   "source": [
    "#### Concatenation"
   ]
  },
  {
   "cell_type": "code",
   "execution_count": 29,
   "metadata": {},
   "outputs": [
    {
     "data": {
      "text/plain": [
       "MultinomialNB()"
      ]
     },
     "execution_count": 29,
     "metadata": {},
     "output_type": "execute_result"
    }
   ],
   "source": [
    "clf_nb_con = MultinomialNB() \n",
    "\n",
    "clf_nb_con.fit(x_train_vect_con, y_train_con)"
   ]
  },
  {
   "cell_type": "code",
   "execution_count": 31,
   "metadata": {},
   "outputs": [
    {
     "name": "stdout",
     "output_type": "stream",
     "text": [
      "0.768885564697083\n",
      "              precision    recall  f1-score   support\n",
      "\n",
      "           0       0.82      0.79      0.81       806\n",
      "           1       0.70      0.73      0.72       531\n",
      "\n",
      "    accuracy                           0.77      1337\n",
      "   macro avg       0.76      0.76      0.76      1337\n",
      "weighted avg       0.77      0.77      0.77      1337\n",
      "\n"
     ]
    }
   ],
   "source": [
    "pred_conc_nb_test = clf_nb_con.predict(x_test_vect_con)\n",
    "\n",
    "print(metrics.accuracy_score(y_test_con, pred_conc_nb_test))\n",
    "print(metrics.classification_report(y_test_con, pred_conc_nb_test))"
   ]
  },
  {
   "cell_type": "code",
   "execution_count": null,
   "metadata": {},
   "outputs": [],
   "source": []
  }
 ],
 "metadata": {
  "kernelspec": {
   "display_name": "Python 3",
   "language": "python",
   "name": "python3"
  },
  "language_info": {
   "codemirror_mode": {
    "name": "ipython",
    "version": 3
   },
   "file_extension": ".py",
   "mimetype": "text/x-python",
   "name": "python",
   "nbconvert_exporter": "python",
   "pygments_lexer": "ipython3",
   "version": "3.8.5"
  }
 },
 "nbformat": 4,
 "nbformat_minor": 5
}
